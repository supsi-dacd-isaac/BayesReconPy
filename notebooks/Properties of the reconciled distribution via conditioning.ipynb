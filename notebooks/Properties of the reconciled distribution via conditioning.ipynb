{
 "cells": [
  {
   "attachments": {},
   "cell_type": "markdown",
   "id": "6011eb426e796d46",
   "metadata": {},
   "source": [
    "# Properties of the reconciled distribution via conditioning\n",
    "\n",
    "# Introduction\n",
    "\n",
    "This vignette reproduces the results of the paper *Properties of the reconciled distributions for Gaussian and count forecasts* (Zambon et al. 2024), accepted for publication in the International Journal of Forecasting. We replicate here the results obtained in the original [R package](https://cran.r-project.org/web/packages/bayesRecon/vignettes/reconciliation_properties.html).\n",
    "\n",
    "# Data and base forecasts\n",
    "\n",
    "The R package released a new data set, containing time series of counts of extreme market events in five economic sectors in the period 2005-2018 (3508 trading days). The counts are computed by considering 29 companies included in the Euro Stoxx 50 index and observing if the value of the CDS spread on a given day exceeds the 90-th percentile of its distribution in the last trading year. The companies are divided into the following sectors: Financial (FIN), Information and Communication Technology (ICT), Manufacturing (MFG), Energy (ENG), and Trade (TRD).\n",
    "\n",
    "The hierarchy is composed of 5 bottom time series, the daily number of extreme market\n",
    "\n",
    "events in each sector, and 1 upper time series (the sum of the different sectors). Data are stored in `extr_mkt_events.pkl`.\n",
    "![extr_mkt_events.jpeg](../pictures/extr_mkt_events.jpeg)"
   ]
  },
  {
   "cell_type": "code",
   "execution_count": 2,
   "id": "749510705029c15a",
   "metadata": {
    "ExecuteTime": {
     "end_time": "2024-11-12T10:15:12.093083Z",
     "start_time": "2024-11-12T10:15:12.091126Z"
    }
   },
   "outputs": [
    {
     "name": "stdout",
     "output_type": "stream",
     "text": [
      "/home/anubhabb/PycharmProjects/BayesReconPy/notebooks\n"
     ]
    }
   ],
   "source": []
  },
  {
   "cell_type": "code",
   "execution_count": 5,
   "id": "16c99df8-19ac-4c44-9bc7-7ed94f076aae",
   "metadata": {},
   "outputs": [
    {
     "name": "stdout",
     "output_type": "stream",
     "text": [
      "False\n"
     ]
    }
   ],
   "source": []
  },
  {
   "cell_type": "code",
   "execution_count": null,
   "id": "643912cf-e59d-402a-bd44-64e0c93fd7ca",
   "metadata": {},
   "outputs": [],
   "source": []
  }
 ],
 "metadata": {
  "kernelspec": {
   "display_name": "Python 3 (ipykernel)",
   "language": "python",
   "name": "python3"
  },
  "language_info": {
   "codemirror_mode": {
    "name": "ipython",
    "version": 3
   },
   "file_extension": ".py",
   "mimetype": "text/x-python",
   "name": "python",
   "nbconvert_exporter": "python",
   "pygments_lexer": "ipython3",
   "version": "3.10.14"
  }
 },
 "nbformat": 4,
 "nbformat_minor": 5
}
